{
 "cells": [
  {
   "cell_type": "markdown",
   "metadata": {},
   "source": [
    "## Dependencies"
   ]
  },
  {
   "cell_type": "code",
   "execution_count": 1,
   "metadata": {},
   "outputs": [],
   "source": [
    "import io\n",
    "import re\n",
    "import string\n",
    "import tqdm\n",
    "import glob\n",
    "\n",
    "import numpy as np\n",
    "\n",
    "import tensorflow as tf\n",
    "from keras import layers\n",
    "\n",
    "import matplotlib.pyplot as plt\n",
    "from sklearn.decomposition import PCA"
   ]
  },
  {
   "cell_type": "code",
   "execution_count": 2,
   "metadata": {},
   "outputs": [],
   "source": [
    "# Load the TensorBoard notebook extension\n",
    "%load_ext tensorboard"
   ]
  },
  {
   "cell_type": "code",
   "execution_count": 3,
   "metadata": {},
   "outputs": [],
   "source": [
    "SEED = 42\n",
    "AUTOTUNE = tf.data.AUTOTUNE\n",
    "CURRENTYEAR=2023"
   ]
  },
  {
   "cell_type": "markdown",
   "metadata": {},
   "source": [
    "# Data Preproccessing"
   ]
  },
  {
   "cell_type": "code",
   "execution_count": 4,
   "metadata": {},
   "outputs": [],
   "source": [
    "path_to_dir = f'../../datasets/gameRecaps/{CURRENTYEAR}/'\n"
   ]
  },
  {
   "cell_type": "code",
   "execution_count": 5,
   "metadata": {},
   "outputs": [],
   "source": [
    "def generate_training_data(sequences, window_size, num_ns, vocab_size, seed):\n",
    "  # Elements of each training example are appended to these lists.\n",
    "  targets, contexts, labels = [], [], []\n",
    "\n",
    "  # Build the sampling table for `vocab_size` tokens.\n",
    "  sampling_table = tf.keras.preprocessing.sequence.make_sampling_table(vocab_size)\n",
    "\n",
    "  # Iterate over all sequences (sentences) in the dataset.\n",
    "  for sequence in tqdm.tqdm(sequences):\n",
    "\n",
    "    # Generate positive skip-gram pairs for a sequence (sentence).\n",
    "    positive_skip_grams, _ = tf.keras.preprocessing.sequence.skipgrams(\n",
    "          sequence,\n",
    "          vocabulary_size=vocab_size,\n",
    "          sampling_table=sampling_table,\n",
    "          window_size=window_size,\n",
    "          negative_samples=0)\n",
    "\n",
    "    # Iterate over each positive skip-gram pair to produce training examples\n",
    "    # with a positive context word and negative samples.\n",
    "    for target_word, context_word in positive_skip_grams:\n",
    "      context_class = tf.expand_dims(\n",
    "          tf.constant([context_word], dtype=\"int64\"), 1)\n",
    "      negative_sampling_candidates, _, _ = tf.random.log_uniform_candidate_sampler(\n",
    "          true_classes=context_class,\n",
    "          num_true=1,\n",
    "          num_sampled=num_ns,\n",
    "          unique=True,\n",
    "          range_max=vocab_size,\n",
    "          seed=seed,\n",
    "          name=\"negative_sampling\")\n",
    "\n",
    "      # Build context and label vectors (for one target word)\n",
    "      context = tf.concat([tf.squeeze(context_class,1), negative_sampling_candidates], 0)\n",
    "      label = tf.constant([1] + [0]*num_ns, dtype=\"int64\")\n",
    "\n",
    "      # Append each element from the training example to global lists.\n",
    "      targets.append(target_word)\n",
    "      contexts.append(context)\n",
    "      labels.append(label)\n",
    "\n",
    "  return targets, contexts, labels"
   ]
  },
  {
   "cell_type": "code",
   "execution_count": 6,
   "metadata": {},
   "outputs": [],
   "source": [
    "\n",
    "all_files = glob.glob(f'{path_to_dir}/**/*txt', recursive=True)\n",
    "\n",
    "text_ds = tf.data.TextLineDataset(all_files).filter(lambda x: tf.cast(tf.strings.length(x), bool))\n"
   ]
  },
  {
   "cell_type": "markdown",
   "metadata": {},
   "source": [
    "### Vectorize sentences from the corpus"
   ]
  },
  {
   "cell_type": "code",
   "execution_count": 7,
   "metadata": {},
   "outputs": [],
   "source": [
    "# create a custom standardization function to lowercase the text and\n",
    "# remove punctuation.\n",
    "def custom_standardization(input_data):\n",
    "  lowercase = tf.strings.lower(input_data)\n",
    "  return tf.strings.regex_replace(lowercase,\n",
    "                                  '[%s]' % re.escape(string.punctuation), '')\n",
    "\n",
    "\n",
    "# Define the vocabulary size and the number of words in a sequence.\n",
    "vocab_size = 4096\n",
    "sequence_length = 10\n",
    "\n",
    "# Use the `TextVectorization` layer to normalize, split, and map strings to\n",
    "# integers. Set the `output_sequence_length` length to pad all samples to the\n",
    "# same length.\n",
    "vectorize_layer = layers.TextVectorization(\n",
    "    standardize=custom_standardization,\n",
    "    max_tokens=vocab_size,\n",
    "    output_mode='int',\n",
    "    output_sequence_length=sequence_length)\n",
    "\n",
    "\n",
    "vectorize_layer.adapt(text_ds.batch(1024))\n",
    "inverse_vocab = vectorize_layer.get_vocabulary()\n",
    "\n",
    "text_vector_ds = text_ds.batch(1024).prefetch(AUTOTUNE).map(vectorize_layer).unbatch()\n",
    "sequences = list(text_vector_ds.as_numpy_iterator())\n",
    "\n"
   ]
  },
  {
   "cell_type": "code",
   "execution_count": 8,
   "metadata": {},
   "outputs": [
    {
     "name": "stdout",
     "output_type": "stream",
     "text": [
      "[ 243 1652  464  199 1735  386  192    6   84  226] => ['love', 'clifford', 'help', 'packers', 'roll', 'past', 'bengals', 'in', 'preseason', 'opener']\n",
      "[ 232  541  434 1714  260  297 1142 1463    6 3071] => ['colts', 'qb', 'richardson', 'struggles', 'bills', 'safety', 'hamlin', 'shines', 'in', 'buffalos']\n",
      "[2823  269  561   77  896  601 1529  120   65   74] => ['qbs', 'watson', 'howell', 'have', 'solid', 'starts', 'brissett', 'has', 'td', 'run']\n",
      "[   1 3120  350  129   65 1780  185    4    3 1687] => ['[UNK]', '79yard', 'punt', 'return', 'td', 'helps', 'falcons', 'to', 'a', '193']\n",
      "[ 165  896   32    3  263   32  144 1836  433 1411] => ['wilson', 'solid', 'as', 'a', 'backup', 'as', 'jets', 'begin', 'rodgers', 'era']\n"
     ]
    }
   ],
   "source": [
    "### OPTIONAL\n",
    "for seq in sequences[:5]:\n",
    "  print(f\"{seq} => {[inverse_vocab[i] for i in seq]}\")"
   ]
  },
  {
   "cell_type": "markdown",
   "metadata": {},
   "source": [
    "## Generate training examples"
   ]
  },
  {
   "cell_type": "code",
   "execution_count": 9,
   "metadata": {},
   "outputs": [
    {
     "name": "stderr",
     "output_type": "stream",
     "text": [
      "100%|██████████| 160/160 [00:00<00:00, 414.22it/s]"
     ]
    },
    {
     "name": "stdout",
     "output_type": "stream",
     "text": [
      "\n",
      "\n",
      "targets.shape: (724,)\n",
      "contexts.shape: (724, 16)\n",
      "labels.shape: (724, 16)\n"
     ]
    },
    {
     "name": "stderr",
     "output_type": "stream",
     "text": [
      "\n"
     ]
    }
   ],
   "source": [
    "targets, contexts, labels = generate_training_data(\n",
    "    sequences=sequences,\n",
    "    window_size=2,\n",
    "    num_ns=15,\n",
    "    vocab_size=vocab_size,\n",
    "    seed=SEED)\n",
    "\n",
    "targets = np.array(targets)\n",
    "contexts = np.array(contexts)\n",
    "labels = np.array(labels)\n",
    "\n",
    "print('\\n')\n",
    "print(f\"targets.shape: {targets.shape}\")\n",
    "print(f\"contexts.shape: {contexts.shape}\")\n",
    "print(f\"labels.shape: {labels.shape}\")"
   ]
  },
  {
   "cell_type": "code",
   "execution_count": 10,
   "metadata": {},
   "outputs": [
    {
     "name": "stdout",
     "output_type": "stream",
     "text": [
      "tf.Tensor([724], shape=(1,), dtype=int32)\n",
      "tf.Tensor([724  16], shape=(2,), dtype=int32)\n",
      "tf.Tensor([724  16], shape=(2,), dtype=int32)\n",
      "3\n"
     ]
    }
   ],
   "source": [
    "print(tf.shape(targets))\n",
    "print(tf.shape(contexts))\n",
    "print(tf.shape(labels))\n",
    "\n",
    "BATCH_SIZE = 238\n",
    "BUFFER_SIZE = 10000\n",
    "dataset = tf.data.Dataset.from_tensor_slices(((targets, contexts), labels))\n",
    "dataset = dataset.shuffle(BUFFER_SIZE).batch(BATCH_SIZE, drop_remainder=True)\n",
    "\n",
    "num_batches = dataset.cardinality().numpy()\n",
    "print(num_batches)"
   ]
  },
  {
   "cell_type": "markdown",
   "metadata": {},
   "source": [
    "## Model and training"
   ]
  },
  {
   "cell_type": "code",
   "execution_count": 11,
   "metadata": {},
   "outputs": [],
   "source": [
    "class Word2Vec(tf.keras.Model):\n",
    "  def __init__(self, vocab_size, embedding_dim):\n",
    "    super(Word2Vec, self).__init__()\n",
    "    self.target_embedding = layers.Embedding(vocab_size,\n",
    "                                      embedding_dim,\n",
    "                                      input_length=1,\n",
    "                                      name=\"w2v_embedding\")\n",
    "    self.context_embedding = layers.Embedding(vocab_size,\n",
    "                                       embedding_dim,\n",
    "                                       input_length=15+1)\n",
    "\n",
    "  def call(self, pair):\n",
    "    target, context = pair\n",
    "    # target: (batch, dummy?)  # The dummy axis doesn't exist in TF2.7+\n",
    "    # context: (batch, context)\n",
    "    if len(target.shape) == 2:\n",
    "      target = tf.squeeze(target, axis=1)\n",
    "    # target: (batch,)\n",
    "    word_emb = self.target_embedding(target)\n",
    "    # word_emb: (batch, embed)\n",
    "    context_emb = self.context_embedding(context)\n",
    "    # context_emb: (batch, context, embed)\n",
    "    dots = tf.einsum('be,bce->bc', word_emb, context_emb)\n",
    "    # dots: (batch, context)\n",
    "    return dots"
   ]
  },
  {
   "cell_type": "code",
   "execution_count": 12,
   "metadata": {},
   "outputs": [],
   "source": [
    "def custom_loss(x_logit, y_true):\n",
    "      return tf.nn.sigmoid_cross_entropy_with_logits(logits=x_logit, labels=y_true)"
   ]
  },
  {
   "cell_type": "code",
   "execution_count": 13,
   "metadata": {},
   "outputs": [],
   "source": [
    "embedding_dim = 128\n",
    "word2vec = Word2Vec(vocab_size, embedding_dim)\n",
    "word2vec.compile(optimizer='adam',\n",
    "                 loss=tf.keras.losses.CategoricalCrossentropy(from_logits=True),\n",
    "                 metrics=['accuracy'])"
   ]
  },
  {
   "cell_type": "code",
   "execution_count": 14,
   "metadata": {},
   "outputs": [],
   "source": [
    "tensorboard_callback = tf.keras.callbacks.TensorBoard(log_dir=\"logs\")"
   ]
  },
  {
   "cell_type": "code",
   "execution_count": 15,
   "metadata": {},
   "outputs": [
    {
     "name": "stdout",
     "output_type": "stream",
     "text": [
      "Epoch 1/100\n"
     ]
    },
    {
     "name": "stdout",
     "output_type": "stream",
     "text": [
      "3/3 [==============================] - 1s 25ms/step - loss: 2.7731 - accuracy: 0.0658\n",
      "Epoch 2/100\n",
      "3/3 [==============================] - 0s 19ms/step - loss: 2.7651 - accuracy: 0.2577\n",
      "Epoch 3/100\n",
      "3/3 [==============================] - 0s 25ms/step - loss: 2.7579 - accuracy: 0.4300\n",
      "Epoch 4/100\n",
      "3/3 [==============================] - 0s 23ms/step - loss: 2.7505 - accuracy: 0.6092\n",
      "Epoch 5/100\n",
      "3/3 [==============================] - 0s 22ms/step - loss: 2.7430 - accuracy: 0.7521\n",
      "Epoch 6/100\n",
      "3/3 [==============================] - 0s 17ms/step - loss: 2.7350 - accuracy: 0.8431\n",
      "Epoch 7/100\n",
      "3/3 [==============================] - 0s 23ms/step - loss: 2.7268 - accuracy: 0.8894\n",
      "Epoch 8/100\n",
      "3/3 [==============================] - 0s 18ms/step - loss: 2.7177 - accuracy: 0.9174\n",
      "Epoch 9/100\n",
      "3/3 [==============================] - 0s 23ms/step - loss: 2.7081 - accuracy: 0.9244\n",
      "Epoch 10/100\n",
      "3/3 [==============================] - 0s 17ms/step - loss: 2.6978 - accuracy: 0.9314\n",
      "Epoch 11/100\n",
      "3/3 [==============================] - 0s 23ms/step - loss: 2.6865 - accuracy: 0.9356\n",
      "Epoch 12/100\n",
      "3/3 [==============================] - 0s 21ms/step - loss: 2.6741 - accuracy: 0.9370\n",
      "Epoch 13/100\n",
      "3/3 [==============================] - 0s 18ms/step - loss: 2.6609 - accuracy: 0.9426\n",
      "Epoch 14/100\n",
      "3/3 [==============================] - 0s 19ms/step - loss: 2.6459 - accuracy: 0.9398\n",
      "Epoch 15/100\n",
      "3/3 [==============================] - 0s 18ms/step - loss: 2.6300 - accuracy: 0.9468\n",
      "Epoch 16/100\n",
      "3/3 [==============================] - 0s 18ms/step - loss: 2.6126 - accuracy: 0.9426\n",
      "Epoch 17/100\n",
      "3/3 [==============================] - 0s 18ms/step - loss: 2.5937 - accuracy: 0.9426\n",
      "Epoch 18/100\n",
      "3/3 [==============================] - 0s 19ms/step - loss: 2.5731 - accuracy: 0.9454\n",
      "Epoch 19/100\n",
      "3/3 [==============================] - 0s 19ms/step - loss: 2.5505 - accuracy: 0.9454\n",
      "Epoch 20/100\n",
      "3/3 [==============================] - 0s 22ms/step - loss: 2.5263 - accuracy: 0.9468\n",
      "Epoch 21/100\n",
      "3/3 [==============================] - 0s 13ms/step - loss: 2.5012 - accuracy: 0.9482\n",
      "Epoch 22/100\n",
      "3/3 [==============================] - 0s 21ms/step - loss: 2.4732 - accuracy: 0.9482\n",
      "Epoch 23/100\n",
      "3/3 [==============================] - 0s 23ms/step - loss: 2.4442 - accuracy: 0.9468\n",
      "Epoch 24/100\n",
      "3/3 [==============================] - 0s 21ms/step - loss: 2.4126 - accuracy: 0.9496\n",
      "Epoch 25/100\n",
      "3/3 [==============================] - 0s 25ms/step - loss: 2.3793 - accuracy: 0.9510\n",
      "Epoch 26/100\n",
      "3/3 [==============================] - 0s 21ms/step - loss: 2.3439 - accuracy: 0.9524\n",
      "Epoch 27/100\n",
      "3/3 [==============================] - 0s 21ms/step - loss: 2.3063 - accuracy: 0.9538\n",
      "Epoch 28/100\n",
      "3/3 [==============================] - 0s 17ms/step - loss: 2.2667 - accuracy: 0.9538\n",
      "Epoch 29/100\n",
      "3/3 [==============================] - 0s 17ms/step - loss: 2.2263 - accuracy: 0.9552\n",
      "Epoch 30/100\n",
      "3/3 [==============================] - 0s 21ms/step - loss: 2.1829 - accuracy: 0.9538\n",
      "Epoch 31/100\n",
      "3/3 [==============================] - 0s 17ms/step - loss: 2.1379 - accuracy: 0.9496\n",
      "Epoch 32/100\n",
      "3/3 [==============================] - 0s 17ms/step - loss: 2.0916 - accuracy: 0.9496\n",
      "Epoch 33/100\n",
      "3/3 [==============================] - 0s 22ms/step - loss: 2.0458 - accuracy: 0.9482\n",
      "Epoch 34/100\n",
      "3/3 [==============================] - 0s 17ms/step - loss: 1.9943 - accuracy: 0.9482\n",
      "Epoch 35/100\n",
      "3/3 [==============================] - 0s 19ms/step - loss: 1.9417 - accuracy: 0.9454\n",
      "Epoch 36/100\n",
      "3/3 [==============================] - 0s 14ms/step - loss: 1.8879 - accuracy: 0.9468\n",
      "Epoch 37/100\n",
      "3/3 [==============================] - 0s 20ms/step - loss: 1.8351 - accuracy: 0.9468\n",
      "Epoch 38/100\n",
      "3/3 [==============================] - 0s 21ms/step - loss: 1.7791 - accuracy: 0.9482\n",
      "Epoch 39/100\n",
      "3/3 [==============================] - 0s 18ms/step - loss: 1.7249 - accuracy: 0.9482\n",
      "Epoch 40/100\n",
      "3/3 [==============================] - 0s 20ms/step - loss: 1.6710 - accuracy: 0.9482\n",
      "Epoch 41/100\n",
      "3/3 [==============================] - 0s 16ms/step - loss: 1.6136 - accuracy: 0.9482\n",
      "Epoch 42/100\n",
      "3/3 [==============================] - 0s 16ms/step - loss: 1.5575 - accuracy: 0.9468\n",
      "Epoch 43/100\n",
      "3/3 [==============================] - 0s 19ms/step - loss: 1.5009 - accuracy: 0.9496\n",
      "Epoch 44/100\n",
      "3/3 [==============================] - 0s 19ms/step - loss: 1.4435 - accuracy: 0.9538\n",
      "Epoch 45/100\n",
      "3/3 [==============================] - 0s 18ms/step - loss: 1.3904 - accuracy: 0.9552\n",
      "Epoch 46/100\n",
      "3/3 [==============================] - 0s 18ms/step - loss: 1.3324 - accuracy: 0.9552\n",
      "Epoch 47/100\n",
      "3/3 [==============================] - 0s 20ms/step - loss: 1.2777 - accuracy: 0.9524\n",
      "Epoch 48/100\n",
      "3/3 [==============================] - 0s 22ms/step - loss: 1.2257 - accuracy: 0.9524\n",
      "Epoch 49/100\n",
      "3/3 [==============================] - 0s 14ms/step - loss: 1.1734 - accuracy: 0.9566\n",
      "Epoch 50/100\n",
      "3/3 [==============================] - 0s 18ms/step - loss: 1.1216 - accuracy: 0.9566\n",
      "Epoch 51/100\n",
      "3/3 [==============================] - 0s 17ms/step - loss: 1.0723 - accuracy: 0.9594\n",
      "Epoch 52/100\n",
      "3/3 [==============================] - 0s 17ms/step - loss: 1.0236 - accuracy: 0.9594\n",
      "Epoch 53/100\n",
      "3/3 [==============================] - 0s 20ms/step - loss: 0.9782 - accuracy: 0.9580\n",
      "Epoch 54/100\n",
      "3/3 [==============================] - 0s 17ms/step - loss: 0.9323 - accuracy: 0.9608\n",
      "Epoch 55/100\n",
      "3/3 [==============================] - 0s 22ms/step - loss: 0.8889 - accuracy: 0.9636\n",
      "Epoch 56/100\n",
      "3/3 [==============================] - 0s 17ms/step - loss: 0.8515 - accuracy: 0.9636\n",
      "Epoch 57/100\n",
      "3/3 [==============================] - 0s 23ms/step - loss: 0.8125 - accuracy: 0.9622\n",
      "Epoch 58/100\n",
      "3/3 [==============================] - 0s 21ms/step - loss: 0.7759 - accuracy: 0.9650\n",
      "Epoch 59/100\n",
      "3/3 [==============================] - 0s 27ms/step - loss: 0.7376 - accuracy: 0.9692\n",
      "Epoch 60/100\n",
      "3/3 [==============================] - 0s 24ms/step - loss: 0.7060 - accuracy: 0.9692\n",
      "Epoch 61/100\n",
      "3/3 [==============================] - 0s 21ms/step - loss: 0.6787 - accuracy: 0.9720\n",
      "Epoch 62/100\n",
      "3/3 [==============================] - 0s 16ms/step - loss: 0.6483 - accuracy: 0.9720\n",
      "Epoch 63/100\n",
      "3/3 [==============================] - 0s 23ms/step - loss: 0.6192 - accuracy: 0.9720\n",
      "Epoch 64/100\n",
      "3/3 [==============================] - 0s 16ms/step - loss: 0.5953 - accuracy: 0.9748\n",
      "Epoch 65/100\n",
      "3/3 [==============================] - 0s 23ms/step - loss: 0.5676 - accuracy: 0.9804\n",
      "Epoch 66/100\n",
      "3/3 [==============================] - 0s 19ms/step - loss: 0.5479 - accuracy: 0.9790\n",
      "Epoch 67/100\n",
      "3/3 [==============================] - 0s 16ms/step - loss: 0.5240 - accuracy: 0.9804\n",
      "Epoch 68/100\n",
      "3/3 [==============================] - 0s 20ms/step - loss: 0.5022 - accuracy: 0.9818\n",
      "Epoch 69/100\n",
      "3/3 [==============================] - 0s 21ms/step - loss: 0.4848 - accuracy: 0.9818\n",
      "Epoch 70/100\n",
      "3/3 [==============================] - 0s 18ms/step - loss: 0.4712 - accuracy: 0.9818\n",
      "Epoch 71/100\n",
      "3/3 [==============================] - 0s 23ms/step - loss: 0.4510 - accuracy: 0.9832\n",
      "Epoch 72/100\n",
      "3/3 [==============================] - 0s 15ms/step - loss: 0.4343 - accuracy: 0.9832\n",
      "Epoch 73/100\n",
      "3/3 [==============================] - 0s 17ms/step - loss: 0.4195 - accuracy: 0.9846\n",
      "Epoch 74/100\n",
      "3/3 [==============================] - 0s 20ms/step - loss: 0.4075 - accuracy: 0.9832\n",
      "Epoch 75/100\n",
      "3/3 [==============================] - 0s 17ms/step - loss: 0.3929 - accuracy: 0.9832\n",
      "Epoch 76/100\n",
      "3/3 [==============================] - 0s 16ms/step - loss: 0.3798 - accuracy: 0.9832\n",
      "Epoch 77/100\n",
      "3/3 [==============================] - 0s 21ms/step - loss: 0.3713 - accuracy: 0.9832\n",
      "Epoch 78/100\n",
      "3/3 [==============================] - 0s 17ms/step - loss: 0.3596 - accuracy: 0.9832\n",
      "Epoch 79/100\n",
      "3/3 [==============================] - 0s 19ms/step - loss: 0.3476 - accuracy: 0.9846\n",
      "Epoch 80/100\n",
      "3/3 [==============================] - 0s 20ms/step - loss: 0.3383 - accuracy: 0.9832\n",
      "Epoch 81/100\n",
      "3/3 [==============================] - 0s 17ms/step - loss: 0.3299 - accuracy: 0.9832\n",
      "Epoch 82/100\n",
      "3/3 [==============================] - 0s 21ms/step - loss: 0.3210 - accuracy: 0.9860\n",
      "Epoch 83/100\n",
      "3/3 [==============================] - 0s 19ms/step - loss: 0.3123 - accuracy: 0.9860\n",
      "Epoch 84/100\n",
      "3/3 [==============================] - 0s 19ms/step - loss: 0.3053 - accuracy: 0.9860\n",
      "Epoch 85/100\n",
      "3/3 [==============================] - 0s 19ms/step - loss: 0.2966 - accuracy: 0.9860\n",
      "Epoch 86/100\n",
      "3/3 [==============================] - 0s 17ms/step - loss: 0.2896 - accuracy: 0.9860\n",
      "Epoch 87/100\n",
      "3/3 [==============================] - 0s 21ms/step - loss: 0.2813 - accuracy: 0.9860\n",
      "Epoch 88/100\n",
      "3/3 [==============================] - 0s 21ms/step - loss: 0.2748 - accuracy: 0.9860\n",
      "Epoch 89/100\n",
      "3/3 [==============================] - 0s 20ms/step - loss: 0.2703 - accuracy: 0.9860\n",
      "Epoch 90/100\n",
      "3/3 [==============================] - 0s 18ms/step - loss: 0.2632 - accuracy: 0.9860\n",
      "Epoch 91/100\n",
      "3/3 [==============================] - 0s 20ms/step - loss: 0.2582 - accuracy: 0.9860\n",
      "Epoch 92/100\n",
      "3/3 [==============================] - 0s 22ms/step - loss: 0.2546 - accuracy: 0.9860\n",
      "Epoch 93/100\n",
      "3/3 [==============================] - 0s 36ms/step - loss: 0.2480 - accuracy: 0.9860\n",
      "Epoch 94/100\n",
      "3/3 [==============================] - 0s 32ms/step - loss: 0.2426 - accuracy: 0.9874\n",
      "Epoch 95/100\n",
      "3/3 [==============================] - 0s 21ms/step - loss: 0.2386 - accuracy: 0.9874\n",
      "Epoch 96/100\n",
      "3/3 [==============================] - 0s 18ms/step - loss: 0.2335 - accuracy: 0.9888\n",
      "Epoch 97/100\n",
      "3/3 [==============================] - 0s 21ms/step - loss: 0.2304 - accuracy: 0.9874\n",
      "Epoch 98/100\n",
      "3/3 [==============================] - 0s 19ms/step - loss: 0.2257 - accuracy: 0.9874\n",
      "Epoch 99/100\n",
      "3/3 [==============================] - 0s 23ms/step - loss: 0.2211 - accuracy: 0.9874\n",
      "Epoch 100/100\n",
      "3/3 [==============================] - 0s 16ms/step - loss: 0.2175 - accuracy: 0.9874\n"
     ]
    },
    {
     "data": {
      "text/plain": [
       "<keras.src.callbacks.History at 0x21f72af6020>"
      ]
     },
     "execution_count": 15,
     "metadata": {},
     "output_type": "execute_result"
    }
   ],
   "source": [
    "word2vec.fit(dataset, epochs=100, callbacks=[tensorboard_callback])"
   ]
  },
  {
   "cell_type": "code",
   "execution_count": 16,
   "metadata": {},
   "outputs": [],
   "source": [
    "def retreieve(word):\n",
    "    def word_to_index(word):\n",
    "        try:\n",
    "            return inverse_vocab.index(word)\n",
    "        except ValueError:\n",
    "            return None\n",
    "\n",
    "    word_index = word_to_index(word)\n",
    "    if word_index is None:\n",
    "        print(f\"Word '{word}' not found in vocabulary!\")\n",
    "        return None\n",
    "\n",
    "    word_vector = word2vec.target_embedding(tf.constant([[word_index]]))\n",
    "    return tf.squeeze(word_vector, axis=0).numpy()\n"
   ]
  },
  {
   "cell_type": "markdown",
   "metadata": {},
   "source": []
  },
  {
   "cell_type": "markdown",
   "metadata": {},
   "source": [
    "## Visualization"
   ]
  },
  {
   "cell_type": "code",
   "execution_count": 17,
   "metadata": {},
   "outputs": [],
   "source": [
    "def plot_pca_reduction(vectors, labels):\n",
    "    \"\"\"\n",
    "    Reduces the dimensionality of the given vectors to 2 using PCA and plots them.\n",
    "    \n",
    "    Args:\n",
    "    - vectors (list of list of float): The list of vectors to reduce and plot.\n",
    "    - labels (list of str): Names corresponding to each vector.\n",
    "    \n",
    "    Returns:\n",
    "    None\n",
    "    \"\"\"\n",
    "    # Convert the list of vectors to a numpy array\n",
    "    vectors = np.array(vectors)\n",
    "\n",
    "    # Initialize PCA and reduce dimensionality to 2\n",
    "    pca = PCA(n_components=2)\n",
    "    reduced_vectors = pca.fit_transform(vectors)\n",
    "\n",
    "    # Extract the 2D coordinates\n",
    "    x_coords = reduced_vectors[:, 0]\n",
    "    y_coords = reduced_vectors[:, 1]\n",
    "\n",
    "    # Plot the 2D representation of the vectors\n",
    "    plt.scatter(x_coords, y_coords)\n",
    "    \n",
    "    # Add labels above each point\n",
    "    for x, y, label in zip(x_coords, y_coords, labels):\n",
    "        plt.text(x, y, label, fontsize=9, ha='center', va='bottom')\n",
    "\n",
    "    plt.xlabel('Principal Component 1')\n",
    "    plt.ylabel('Principal Component 2')\n",
    "    plt.title('PCA Reduced Vectors')\n",
    "    plt.show()"
   ]
  },
  {
   "cell_type": "code",
   "execution_count": 18,
   "metadata": {},
   "outputs": [
    {
     "data": {
      "image/png": "[encoded data removed]",
      "text/plain": [
       "<Figure size 640x480 with 1 Axes>"
      ]
     },
     "metadata": {},
     "output_type": "display_data"
    }
   ],
   "source": [
    "nfl_teams = [\n",
    "    \"cardinals\",\n",
    "    \"falcons\",\n",
    "    \"ravens\",\n",
    "    \"bills\",\n",
    "    \"panthers\",\n",
    "    \"bears\",\n",
    "    \"bengals\",\n",
    "    \"browns\",\n",
    "    \"cowboys\",\n",
    "    \"broncos\",\n",
    "    \"lions\",\n",
    "    \"packers\",\n",
    "    \"texans\",\n",
    "    \"colts\",\n",
    "    \"jaguars\",\n",
    "    \"chiefs\",\n",
    "    \"chargers\",\n",
    "    \"rams\",\n",
    "    \"dolphins\",\n",
    "    \"vikings\",\n",
    "    \"patriots\",\n",
    "    \"saints\",\n",
    "    \"giants\",\n",
    "    \"jets\",\n",
    "    \"raiders\",\n",
    "    \"eagles\",\n",
    "    \"steelers\",\n",
    "    \"49ers\",\n",
    "    \"seahawks\",\n",
    "    \"buccaneers\",\n",
    "    \"titans\",\n",
    "    \"commanders\"]\n",
    "\n",
    "vecs = list(map(retreieve, nfl_teams))\n",
    "vecs = list(map(np.squeeze, vecs))\n",
    "\n",
    "plot_pca_reduction(vecs, nfl_teams)"
   ]
  },
  {
   "cell_type": "code",
   "execution_count": 19,
   "metadata": {},
   "outputs": [],
   "source": [
    "import os\n",
    "\n",
    "def write_to_tsv(data, filename):\n",
    "    \"\"\"\n",
    "    Write a list of lists to a TSV file.\n",
    "\n",
    "    :param data: List of lists containing the data\n",
    "    :param filename: Name of the TSV file to write to\n",
    "    \"\"\"\n",
    "    # Check if the directory exists, if not, create it\n",
    "    directory = os.path.dirname(filename)\n",
    "    if not os.path.exists(directory):\n",
    "        os.makedirs(directory)\n",
    "\n",
    "    with open(filename, 'w') as f:\n",
    "        for row in data:\n",
    "            f.write('\\t'.join(map(str, row)))\n",
    "            f.write('\\n')\n",
    "\n",
    "if len(nfl_teams) != len(vecs):\n",
    "    raise ValueError(\"Both input lists must have the same length.\")\n",
    "\n",
    "data = []\n",
    "for team, array in zip(nfl_teams, vecs):\n",
    "    modified_array = [team] + array.tolist()\n",
    "    data.append(modified_array)\n",
    "\n",
    "write_to_tsv(data, f'../vecs/{CURRENTYEAR}/commanders.tsv')\n",
    "\n"
   ]
  },
  {
   "cell_type": "markdown",
   "metadata": {},
   "source": [
    "## Embedding lookup and analysis"
   ]
  },
  {
   "cell_type": "code",
   "execution_count": 20,
   "metadata": {},
   "outputs": [],
   "source": [
    "weights = word2vec.get_layer('w2v_embedding').get_weights()[0]\n",
    "vocab = vectorize_layer.get_vocabulary()"
   ]
  },
  {
   "cell_type": "code",
   "execution_count": 21,
   "metadata": {},
   "outputs": [],
   "source": [
    "out_v = io.open('vectors.tsv', 'w', encoding='utf-8')\n",
    "out_m = io.open('metadata.tsv', 'w', encoding='utf-8')\n",
    "\n",
    "for index, word in enumerate(vocab):\n",
    "  if index == 0:\n",
    "    continue  # skip 0, it's padding.\n",
    "  vec = weights[index]\n",
    "  out_v.write('\\t'.join([str(x) for x in vec]) + \"\\n\")\n",
    "  out_m.write(word + \"\\n\")\n",
    "out_v.close()\n",
    "out_m.close()"
   ]
  },
  {
   "cell_type": "code",
   "execution_count": 22,
   "metadata": {},
   "outputs": [],
   "source": [
    "try:\n",
    "  from google.colab import files\n",
    "  files.download('vectors.tsv')\n",
    "  files.download('metadata.tsv')\n",
    "except Exception:\n",
    "  pass"
   ]
  }
 ],
 "metadata": {
  "kernelspec": {
   "display_name": "env",
   "language": "python",
   "name": "python3"
  },
  "language_info": {
   "codemirror_mode": {
    "name": "ipython",
    "version": 3
   },
   "file_extension": ".py",
   "mimetype": "text/x-python",
   "name": "python",
   "nbconvert_exporter": "python",
   "pygments_lexer": "ipython3",
   "version": "3.10.11"
  },
  "orig_nbformat": 4
 },
 "nbformat": 4,
 "nbformat_minor": 2
}
